{
 "cells": [
  {
   "cell_type": "code",
   "execution_count": 21,
   "metadata": {
    "metadata": {}
   },
   "outputs": [],
   "source": [
    "import numpy as np\n",
    "import pickle\n",
    "import random\n",
    "from tqdm import tqdm\n",
    "rng = np.random.RandomState(112313)\n",
    "# from scipy.stats import uniform\n",
    "# from scipy.optimize import minimize\n",
    "# from scipy.optimize import minimize_scalar\n",
    "from matplotlib import rcParams, pyplot as plt\n",
    "import matplotlib.ticker as mtick\n",
    "from tqdm.notebook import tqdm\n",
    "from math import floor, ceil, sqrt, pi\n",
    "from time import time\n",
    "from itertools import combinations\n",
    "import pandas as pd\n",
    "import seaborn as sns\n",
    "# from sklearn.decomposition import PCA\n",
    "from collections import Counter\n",
    "from collections import defaultdict\n",
    "import copy\n",
    "from string import ascii_uppercase as auc\n",
    "import os\n",
    "os.environ['KAGGLE_CONFIG_DIR'] = os.path.expanduser('~/.kaggle/')\n",
    "from skimage import io\n",
    "import matplotlib.pyplot as plt\n",
    "#import jpegio as jio\n",
    "from imageio.v2 import imread\n",
    "import numpy as np\n",
    "import matplotlib.pyplot as plt"
   ]
  },
  {
   "cell_type": "code",
   "execution_count": 39,
   "metadata": {
    "metadata": {}
   },
   "outputs": [
    {
     "name": "stdout",
     "output_type": "stream",
     "text": [
      "Cover F Value: 9273.70857732894\n",
      "Stego F Value: 9029.210187049628\n",
      "Analysis Correct: Cover is greater than Stego.\n"
     ]
    }
   ],
   "source": [
    "def load_image(image_path):\n",
    "    return imread(image_path, mode='L').astype(int)\n",
    "\n",
    "def compute_pdh(image):\n",
    "    diffs = []\n",
    "    for i in range(image.shape[0]):\n",
    "        for j in range(image.shape[1] - 1):\n",
    "            diff = image[i, j] - image[i, j+1]\n",
    "            diffs.extend([diff, -diff])\n",
    "\n",
    "    for i in range(image.shape[0] - 1):\n",
    "        for j in range(image.shape[1]):\n",
    "            diff = image[i, j] - image[i + 1, j]\n",
    "            diffs.extend([diff, -diff])\n",
    "\n",
    "    return np.array(diffs)\n",
    "\n",
    "def calculate_f_statistic(diffs):\n",
    "    if diffs.size == 0:\n",
    "        return None\n",
    "\n",
    "    hist_range = (np.min(diffs), np.max(diffs) + 1)\n",
    "    hist, bin_edges = np.histogram(diffs, bins=50, range=hist_range)\n",
    "\n",
    "    obs_freq = hist\n",
    "    exp_freq = (hist + hist[::-1]) / 2\n",
    "\n",
    "    epsilon = 1e-10\n",
    "    f_value = np.sum((obs_freq - exp_freq) ** 2 / (exp_freq + epsilon))\n",
    "    return f_value\n",
    "\n",
    "def analyze_images(cover_path, stego_path):\n",
    "    cover_image = load_image(cover_path)\n",
    "    stego_image = load_image(stego_path)\n",
    "\n",
    "    cover_diffs = compute_pdh(cover_image)\n",
    "    stego_diffs = compute_pdh(stego_image)\n",
    "\n",
    "    cover_f_value = calculate_f_statistic(cover_diffs)\n",
    "    stego_f_value = calculate_f_statistic(stego_diffs)\n",
    "\n",
    "    print(f\"Cover F Value: {cover_f_value}\")\n",
    "    print(f\"Stego F Value: {stego_f_value}\")\n",
    "\n",
    "    if cover_f_value is not None and stego_f_value is not None:\n",
    "        if cover_f_value > stego_f_value:\n",
    "            print(\"Analysis Correct: Cover is greater than Stego.\")\n",
    "        else:\n",
    "            print(\"Analysis Incorrect: Stego is greater than or equal to Cover.\")\n",
    "\n",
    "cover_image_path = 'dataset1\\\\boss_256_0.4_test\\\\cover\\\\9010.png'\n",
    "stego_image_path = 'dataset1\\\\boss_256_0.4_test\\\\bossbase_test\\\\9010.png'\n",
    "analyze_images(cover_image_path, stego_image_path)\n"
   ]
  },
  {
   "cell_type": "code",
   "execution_count": null,
   "metadata": {},
   "outputs": [],
   "source": []
  },
  {
   "cell_type": "code",
   "execution_count": null,
   "metadata": {},
   "outputs": [],
   "source": []
  },
  {
   "cell_type": "code",
   "execution_count": 18,
   "metadata": {},
   "outputs": [
    {
     "name": "stdout",
     "output_type": "stream",
     "text": [
      "Cover F Value: 1015206.8265032987\n",
      "Stego F Value: 946237.5034470992\n",
      "Results: {'TP': 1, 'TN': 1, 'FP': 0, 'FN': 0}\n"
     ]
    }
   ],
   "source": [
    "from imageio.v2 import imread\n",
    "import numpy as np\n",
    "import matplotlib.pyplot as plt\n",
    "\n",
    "def load_image(image_path):\n",
    "    return imread(image_path, mode='L').astype(int)\n",
    "\n",
    "def compute_pdh(image):\n",
    "    diffs = []\n",
    "    for i in range(image.shape[0]):\n",
    "        for j in range(image.shape[1] - 1):\n",
    "            diff = image[i, j] - image[i, j+1]\n",
    "            diffs.extend([diff, -diff])\n",
    "\n",
    "    for i in range(image.shape[0] - 1):\n",
    "        for j in range(image.shape[1]):\n",
    "            diff = image[i, j] - image[i + 1, j]\n",
    "            diffs.extend([diff, -diff])\n",
    "\n",
    "    return np.array(diffs)\n",
    "\n",
    "def calculate_f_statistic(diffs):\n",
    "    if diffs.size == 0:\n",
    "        return None\n",
    "\n",
    "    hist_range = (np.min(diffs), np.max(diffs) + 1)\n",
    "    hist, bin_edges = np.histogram(diffs, bins=50, range=hist_range)\n",
    "\n",
    "    obs_freq = hist\n",
    "    exp_freq = (hist + hist[::-1]) / 2\n",
    "\n",
    "    epsilon = 1e-10\n",
    "    f_value = np.sum((obs_freq - exp_freq) ** 2 / (exp_freq + epsilon))\n",
    "    return f_value\n",
    "\n",
    "def analyze_images(cover_path, stego_path):\n",
    "    cover_image = load_image(cover_path)\n",
    "    stego_image = load_image(stego_path)\n",
    "\n",
    "    cover_diffs = compute_pdh(cover_image)\n",
    "    stego_diffs = compute_pdh(stego_image)\n",
    "\n",
    "    cover_f_value = calculate_f_statistic(cover_diffs)\n",
    "    stego_f_value = calculate_f_statistic(stego_diffs)\n",
    "\n",
    "    print(f\"Cover F Value: {cover_f_value}\")\n",
    "    print(f\"Stego F Value: {stego_f_value}\")\n",
    "\n",
    "    results = {\n",
    "        'TP': 0, 'TN': 0, 'FP': 0, 'FN': 0\n",
    "    }\n",
    "\n",
    "    if cover_f_value > stego_f_value:\n",
    "        results['TN'] += 1  # True Negative: Cover correctly identified with higher F value\n",
    "        results['TP'] += 1  # True Positive: Stego correctly identified with lower F value\n",
    "    else:\n",
    "        results['FN'] += 1  # False Negative: Cover misidentified (lower F value)\n",
    "        results['FP'] += 1  # False Positive: Stego misidentified (higher F value)\n",
    "\n",
    "    print(\"Results:\", results)\n",
    "\n",
    "# Example usage:\n",
    "cover_image_path = 'C:\\\\Users\\\\Dupuju\\\\Downloads\\\\steganalysis\\\\Stego-pvd-dataset\\\\test\\\\cleanTest\\\\06000.png'\n",
    "stego_image_path = 'C:\\\\Users\\\\Dupuju\\\\Downloads\\\\steganalysis\\\\Stego-pvd-dataset\\\\test\\\\stegoTest\\\\06000x.png'\n",
    "analyze_images(cover_image_path, stego_image_path)\n"
   ]
  },
  {
   "cell_type": "code",
   "execution_count": null,
   "metadata": {},
   "outputs": [],
   "source": []
  },
  {
   "cell_type": "code",
   "execution_count": null,
   "metadata": {},
   "outputs": [],
   "source": []
  },
  {
   "cell_type": "code",
   "execution_count": null,
   "metadata": {},
   "outputs": [],
   "source": []
  },
  {
   "cell_type": "code",
   "execution_count": 40,
   "metadata": {
    "metadata": {}
   },
   "outputs": [
    {
     "name": "stderr",
     "output_type": "stream",
     "text": [
      " 29%|██▉       | 290/1000 [02:54<07:07,  1.66it/s]\n"
     ]
    },
    {
     "ename": "KeyboardInterrupt",
     "evalue": "",
     "output_type": "error",
     "traceback": [
      "\u001b[1;31m---------------------------------------------------------------------------\u001b[0m",
      "\u001b[1;31mKeyboardInterrupt\u001b[0m                         Traceback (most recent call last)",
      "Cell \u001b[1;32mIn[40], line 59\u001b[0m\n\u001b[0;32m     57\u001b[0m cover_directory \u001b[38;5;241m=\u001b[39m \u001b[38;5;124m'\u001b[39m\u001b[38;5;124mStego-pvd-dataset\u001b[39m\u001b[38;5;130;01m\\\\\u001b[39;00m\u001b[38;5;124mtest\u001b[39m\u001b[38;5;130;01m\\\\\u001b[39;00m\u001b[38;5;124mcleanTest\u001b[39m\u001b[38;5;124m'\u001b[39m\n\u001b[0;32m     58\u001b[0m stego_directory \u001b[38;5;241m=\u001b[39m \u001b[38;5;124m'\u001b[39m\u001b[38;5;124mStego-pvd-dataset\u001b[39m\u001b[38;5;130;01m\\\\\u001b[39;00m\u001b[38;5;124mtest\u001b[39m\u001b[38;5;130;01m\\\\\u001b[39;00m\u001b[38;5;124mstegoTest\u001b[39m\u001b[38;5;124m'\u001b[39m\n\u001b[1;32m---> 59\u001b[0m \u001b[43manalyze_images\u001b[49m\u001b[43m(\u001b[49m\u001b[43mcover_directory\u001b[49m\u001b[43m,\u001b[49m\u001b[43m \u001b[49m\u001b[43mstego_directory\u001b[49m\u001b[43m)\u001b[49m\n",
      "Cell \u001b[1;32mIn[40], line 43\u001b[0m, in \u001b[0;36manalyze_images\u001b[1;34m(cover_dir, stego_dir)\u001b[0m\n\u001b[0;32m     40\u001b[0m stego_image \u001b[38;5;241m=\u001b[39m load_image(stego_path)\n\u001b[0;32m     42\u001b[0m cover_diffs \u001b[38;5;241m=\u001b[39m compute_pdh(cover_image)\n\u001b[1;32m---> 43\u001b[0m stego_diffs \u001b[38;5;241m=\u001b[39m \u001b[43mcompute_pdh\u001b[49m\u001b[43m(\u001b[49m\u001b[43mstego_image\u001b[49m\u001b[43m)\u001b[49m\n\u001b[0;32m     45\u001b[0m cover_f_value \u001b[38;5;241m=\u001b[39m calculate_f_statistic(cover_diffs)\n\u001b[0;32m     46\u001b[0m stego_f_value \u001b[38;5;241m=\u001b[39m calculate_f_statistic(stego_diffs)\n",
      "Cell \u001b[1;32mIn[40], line 14\u001b[0m, in \u001b[0;36mcompute_pdh\u001b[1;34m(image)\u001b[0m\n\u001b[0;32m     12\u001b[0m     \u001b[38;5;28;01mfor\u001b[39;00m j \u001b[38;5;129;01min\u001b[39;00m \u001b[38;5;28mrange\u001b[39m(image\u001b[38;5;241m.\u001b[39mshape[\u001b[38;5;241m1\u001b[39m] \u001b[38;5;241m-\u001b[39m \u001b[38;5;241m1\u001b[39m):\n\u001b[0;32m     13\u001b[0m         diff \u001b[38;5;241m=\u001b[39m image[i, j] \u001b[38;5;241m-\u001b[39m image[i, j\u001b[38;5;241m+\u001b[39m\u001b[38;5;241m1\u001b[39m]\n\u001b[1;32m---> 14\u001b[0m         diffs\u001b[38;5;241m.\u001b[39mextend([diff, \u001b[38;5;241m-\u001b[39mdiff])\n\u001b[0;32m     15\u001b[0m \u001b[38;5;28;01mfor\u001b[39;00m i \u001b[38;5;129;01min\u001b[39;00m \u001b[38;5;28mrange\u001b[39m(image\u001b[38;5;241m.\u001b[39mshape[\u001b[38;5;241m0\u001b[39m] \u001b[38;5;241m-\u001b[39m \u001b[38;5;241m1\u001b[39m):\n\u001b[0;32m     16\u001b[0m     \u001b[38;5;28;01mfor\u001b[39;00m j \u001b[38;5;129;01min\u001b[39;00m \u001b[38;5;28mrange\u001b[39m(image\u001b[38;5;241m.\u001b[39mshape[\u001b[38;5;241m1\u001b[39m]):\n",
      "\u001b[1;31mKeyboardInterrupt\u001b[0m: "
     ]
    }
   ],
   "source": [
    "from imageio.v2 import imread\n",
    "import numpy as np\n",
    "import os\n",
    "from tqdm import tqdm\n",
    "\n",
    "def load_image(image_path):\n",
    "    return imread(image_path, mode='L').astype(int)\n",
    "\n",
    "def compute_pdh(image):\n",
    "    diffs = []\n",
    "    for i in range(image.shape[0]):\n",
    "        for j in range(image.shape[1] - 1):\n",
    "            diff = image[i, j] - image[i, j+1]\n",
    "            diffs.extend([diff, -diff])\n",
    "    for i in range(image.shape[0] - 1):\n",
    "        for j in range(image.shape[1]):\n",
    "            diff = image[i, j] - image[i + 1, j]\n",
    "            diffs.extend([diff, -diff])\n",
    "    return np.array(diffs)\n",
    "\n",
    "def calculate_f_statistic(diffs):\n",
    "    if diffs.size == 0:\n",
    "        return None\n",
    "    hist_range = (np.min(diffs), np.max(diffs) + 1)\n",
    "    hist, bin_edges = np.histogram(diffs, bins=50, range=hist_range)\n",
    "    obs_freq = hist\n",
    "    exp_freq = (hist + hist[::-1]) / 2\n",
    "    epsilon = 1e-10\n",
    "    f_value = np.sum((obs_freq - exp_freq) ** 2 / (exp_freq + epsilon))\n",
    "    return f_value\n",
    "\n",
    "def analyze_images(cover_dir, stego_dir):\n",
    "    results = {'TP': 0, 'TN': 0, 'FP': 0, 'FN': 0}\n",
    "\n",
    "    for i in tqdm(range(4001, 5001)):\n",
    "        cover_path = os.path.join(cover_dir, f'0{i:03}.png')\n",
    "        stego_path = os.path.join(stego_dir, f'0{i:03}x.png')\n",
    "\n",
    "        cover_image = load_image(cover_path)\n",
    "        stego_image = load_image(stego_path)\n",
    "\n",
    "        cover_diffs = compute_pdh(cover_image)\n",
    "        stego_diffs = compute_pdh(stego_image)\n",
    "\n",
    "        cover_f_value = calculate_f_statistic(cover_diffs)\n",
    "        stego_f_value = calculate_f_statistic(stego_diffs)\n",
    "\n",
    "        if cover_f_value > stego_f_value:\n",
    "            results['TN'] += 1  # True Negative\n",
    "            results['TP'] += 1  # True Positive\n",
    "        else:\n",
    "            results['FN'] += 1  # False Negative\n",
    "            results['FP'] += 1  # False Positive\n",
    "\n",
    "    print(\"Final Results:\", results)\n",
    "\n",
    "cover_directory = 'Stego-pvd-dataset\\\\test\\\\cleanTest'\n",
    "stego_directory = 'Stego-pvd-dataset\\\\test\\\\stegoTest'\n",
    "analyze_images(cover_directory, stego_directory)\n"
   ]
  },
  {
   "cell_type": "code",
   "execution_count": null,
   "metadata": {},
   "outputs": [],
   "source": []
  },
  {
   "cell_type": "code",
   "execution_count": null,
   "metadata": {},
   "outputs": [],
   "source": []
  },
  {
   "cell_type": "code",
   "execution_count": null,
   "metadata": {},
   "outputs": [],
   "source": []
  },
  {
   "cell_type": "code",
   "execution_count": null,
   "metadata": {},
   "outputs": [],
   "source": []
  },
  {
   "cell_type": "code",
   "execution_count": null,
   "metadata": {},
   "outputs": [],
   "source": []
  },
  {
   "cell_type": "code",
   "execution_count": null,
   "metadata": {},
   "outputs": [],
   "source": []
  },
  {
   "cell_type": "markdown",
   "metadata": {},
   "source": [
    "Performance validation"
   ]
  },
  {
   "cell_type": "code",
   "execution_count": 43,
   "metadata": {
    "metadata": {}
   },
   "outputs": [
    {
     "name": "stderr",
     "output_type": "stream",
     "text": [
      "  0%|          | 0/1000 [00:00<?, ?it/s]"
     ]
    },
    {
     "name": "stderr",
     "output_type": "stream",
     "text": [
      "100%|██████████| 1000/1000 [09:24<00:00,  1.77it/s]"
     ]
    },
    {
     "name": "stdout",
     "output_type": "stream",
     "text": [
      "Metrics: {'FPR': 0.01, 'TPR': 0.99, 'Precision': 0.99, 'Recall': 0.99, 'Accuracy': 0.99}\n"
     ]
    },
    {
     "name": "stderr",
     "output_type": "stream",
     "text": [
      "\n"
     ]
    }
   ],
   "source": [
    "from imageio.v2 import imread\n",
    "import numpy as np\n",
    "import os\n",
    "\n",
    "def load_image(image_path):\n",
    "    return imread(image_path, mode='L').astype(int)\n",
    "\n",
    "def compute_pdh(image):\n",
    "    diffs = []\n",
    "    for i in range(image.shape[0]):\n",
    "        for j in range(image.shape[1] - 1):\n",
    "            diff = image[i, j] - image[i, j+1]\n",
    "            diffs.extend([diff, -diff])\n",
    "\n",
    "    for i in range(image.shape[0] - 1):\n",
    "        for j in range(image.shape[1]):\n",
    "            diff = image[i, j] - image[i + 1, j]\n",
    "            diffs.extend([diff, -diff])\n",
    "\n",
    "    return np.array(diffs)\n",
    "\n",
    "def calculate_f_statistic(diffs):\n",
    "    if diffs.size == 0:\n",
    "        return None\n",
    "\n",
    "    hist_range = (np.min(diffs), np.max(diffs) + 1)\n",
    "    hist, bin_edges = np.histogram(diffs, bins=50, range=hist_range)\n",
    "\n",
    "    obs_freq = hist\n",
    "    exp_freq = (hist + hist[::-1]) / 2\n",
    "\n",
    "    epsilon = 1e-10\n",
    "    f_value = np.sum((obs_freq - exp_freq) ** 2 / (exp_freq + epsilon))\n",
    "    return f_value\n",
    "\n",
    "def analyze_images(base_path, cover_dir, stego_dir):\n",
    "    results = {'TP': 0, 'TN': 0, 'FP': 0, 'FN': 0}\n",
    "    \n",
    "    for i in tqdm(range(6001, 7001)):\n",
    "        cover_path = os.path.join(base_path, cover_dir, f\"0{i:3}.png\")\n",
    "        stego_path = os.path.join(base_path, stego_dir, f\"0{i:3}x.png\")\n",
    "        \n",
    "        cover_image = load_image(cover_path)\n",
    "        stego_image = load_image(stego_path)\n",
    "\n",
    "        cover_diffs = compute_pdh(cover_image)\n",
    "        stego_diffs = compute_pdh(stego_image)\n",
    "\n",
    "        cover_f_value = calculate_f_statistic(cover_diffs)\n",
    "        stego_f_value = calculate_f_statistic(stego_diffs)\n",
    "\n",
    "        if cover_f_value > stego_f_value:\n",
    "            results['TN'] += 1\n",
    "            results['TP'] += 1\n",
    "        else:\n",
    "            results['FN'] += 1\n",
    "            results['FP'] += 1\n",
    "\n",
    "    return results\n",
    "\n",
    "def compute_metrics(results):\n",
    "    TP, TN, FP, FN = results['TP'], results['TN'], results['FP'], results['FN']\n",
    "    FPR = FP / (FP + TN) if (FP + TN) > 0 else 0\n",
    "    TPR = TP / (TP + FN) if (TP + FN) > 0 else 0\n",
    "    Precision = TP / (TP + FP) if (TP + FP) > 0 else 0\n",
    "    Recall = TP / (TP + FN) if (TP + FN) > 0 else 0\n",
    "    Accuracy = (TP + TN) / (TP + TN + FP + FN) if (TP + TN + FP + FN) > 0 else 0\n",
    "    \n",
    "    return {\n",
    "        'FPR': FPR,\n",
    "        'TPR': TPR,\n",
    "        'Precision': Precision,\n",
    "        'Recall': Recall,\n",
    "        'Accuracy': Accuracy\n",
    "    }\n",
    "\n",
    "\n",
    "base_path = 'C:\\\\Users\\\\Dupuju\\\\Downloads\\\\steganalysis\\\\Stego-pvd-dataset\\\\train'\n",
    "cover_dir = 'cleanTrain'\n",
    "stego_dir = 'stegoTrain'\n",
    "#num_images = 1000\n",
    "\n",
    "results = analyze_images(base_path, cover_dir, stego_dir)\n",
    "metrics = compute_metrics(results)\n",
    "print(\"Metrics:\", metrics)\n"
   ]
  },
  {
   "cell_type": "code",
   "execution_count": null,
   "metadata": {},
   "outputs": [],
   "source": []
  },
  {
   "cell_type": "code",
   "execution_count": null,
   "metadata": {},
   "outputs": [],
   "source": []
  },
  {
   "cell_type": "code",
   "execution_count": 44,
   "metadata": {
    "metadata": {}
   },
   "outputs": [
    {
     "name": "stderr",
     "output_type": "stream",
     "text": [
      "  0%|          | 0/100 [00:00<?, ?it/s]"
     ]
    },
    {
     "name": "stderr",
     "output_type": "stream",
     "text": [
      "\n"
     ]
    },
    {
     "ename": "FileNotFoundError",
     "evalue": "No such file: 'c:\\Users\\Dupuju\\Downloads\\steganalysis\\dataset1\\boss_256_0.4_train\\dataset1\\boss_256_0.4_train\\cover\\1.png'",
     "output_type": "error",
     "traceback": [
      "\u001b[1;31m---------------------------------------------------------------------------\u001b[0m",
      "\u001b[1;31mFileNotFoundError\u001b[0m                         Traceback (most recent call last)",
      "Cell \u001b[1;32mIn[44], line 86\u001b[0m\n\u001b[0;32m     83\u001b[0m stego_dir \u001b[38;5;241m=\u001b[39m \u001b[38;5;124m'\u001b[39m\u001b[38;5;124mdataset1\u001b[39m\u001b[38;5;130;01m\\\\\u001b[39;00m\u001b[38;5;124mboss_256_0.4_train\u001b[39m\u001b[38;5;130;01m\\\\\u001b[39;00m\u001b[38;5;124mstego\u001b[39m\u001b[38;5;124m'\u001b[39m\n\u001b[0;32m     84\u001b[0m num_images \u001b[38;5;241m=\u001b[39m \u001b[38;5;241m100\u001b[39m\n\u001b[1;32m---> 86\u001b[0m results, errors \u001b[38;5;241m=\u001b[39m \u001b[43manalyze_images\u001b[49m\u001b[43m(\u001b[49m\u001b[43mbase_path\u001b[49m\u001b[43m,\u001b[49m\u001b[43m \u001b[49m\u001b[43mcover_dir\u001b[49m\u001b[43m,\u001b[49m\u001b[43m \u001b[49m\u001b[43mstego_dir\u001b[49m\u001b[43m,\u001b[49m\u001b[43m \u001b[49m\u001b[43mnum_images\u001b[49m\u001b[43m)\u001b[49m\n\u001b[0;32m     87\u001b[0m metrics \u001b[38;5;241m=\u001b[39m compute_metrics(results)\n\u001b[0;32m     88\u001b[0m \u001b[38;5;28mprint\u001b[39m(\u001b[38;5;124m\"\u001b[39m\u001b[38;5;124mMetrics:\u001b[39m\u001b[38;5;124m\"\u001b[39m, metrics)\n",
      "Cell \u001b[1;32mIn[44], line 44\u001b[0m, in \u001b[0;36manalyze_images\u001b[1;34m(base_path, cover_dir, stego_dir, num_images)\u001b[0m\n\u001b[0;32m     41\u001b[0m cover_path \u001b[38;5;241m=\u001b[39m os\u001b[38;5;241m.\u001b[39mpath\u001b[38;5;241m.\u001b[39mjoin(base_path, cover_dir, \u001b[38;5;124mf\u001b[39m\u001b[38;5;124m\"\u001b[39m\u001b[38;5;132;01m{\u001b[39;00mi\u001b[38;5;132;01m}\u001b[39;00m\u001b[38;5;124m.png\u001b[39m\u001b[38;5;124m\"\u001b[39m)\n\u001b[0;32m     42\u001b[0m stego_path \u001b[38;5;241m=\u001b[39m os\u001b[38;5;241m.\u001b[39mpath\u001b[38;5;241m.\u001b[39mjoin(base_path, stego_dir, \u001b[38;5;124mf\u001b[39m\u001b[38;5;124m\"\u001b[39m\u001b[38;5;132;01m{\u001b[39;00mi\u001b[38;5;132;01m}\u001b[39;00m\u001b[38;5;124m.png\u001b[39m\u001b[38;5;124m\"\u001b[39m)\n\u001b[1;32m---> 44\u001b[0m cover_image \u001b[38;5;241m=\u001b[39m \u001b[43mload_image\u001b[49m\u001b[43m(\u001b[49m\u001b[43mcover_path\u001b[49m\u001b[43m)\u001b[49m\n\u001b[0;32m     45\u001b[0m stego_image \u001b[38;5;241m=\u001b[39m load_image(stego_path)\n\u001b[0;32m     47\u001b[0m cover_diffs \u001b[38;5;241m=\u001b[39m compute_pdh(cover_image)\n",
      "Cell \u001b[1;32mIn[44], line 6\u001b[0m, in \u001b[0;36mload_image\u001b[1;34m(image_path)\u001b[0m\n\u001b[0;32m      5\u001b[0m \u001b[38;5;28;01mdef\u001b[39;00m \u001b[38;5;21mload_image\u001b[39m(image_path):\n\u001b[1;32m----> 6\u001b[0m     \u001b[38;5;28;01mreturn\u001b[39;00m \u001b[43mimread\u001b[49m\u001b[43m(\u001b[49m\u001b[43mimage_path\u001b[49m\u001b[43m,\u001b[49m\u001b[43m \u001b[49m\u001b[43mmode\u001b[49m\u001b[38;5;241;43m=\u001b[39;49m\u001b[38;5;124;43m'\u001b[39;49m\u001b[38;5;124;43mL\u001b[39;49m\u001b[38;5;124;43m'\u001b[39;49m\u001b[43m)\u001b[49m\u001b[38;5;241m.\u001b[39mastype(\u001b[38;5;28mint\u001b[39m)\n",
      "File \u001b[1;32m~\\AppData\\Local\\Packages\\PythonSoftwareFoundation.Python.3.11_qbz5n2kfra8p0\\LocalCache\\local-packages\\Python311\\site-packages\\imageio\\v2.py:359\u001b[0m, in \u001b[0;36mimread\u001b[1;34m(uri, format, **kwargs)\u001b[0m\n\u001b[0;32m    356\u001b[0m imopen_args \u001b[38;5;241m=\u001b[39m decypher_format_arg(\u001b[38;5;28mformat\u001b[39m)\n\u001b[0;32m    357\u001b[0m imopen_args[\u001b[38;5;124m\"\u001b[39m\u001b[38;5;124mlegacy_mode\u001b[39m\u001b[38;5;124m\"\u001b[39m] \u001b[38;5;241m=\u001b[39m \u001b[38;5;28;01mTrue\u001b[39;00m\n\u001b[1;32m--> 359\u001b[0m \u001b[38;5;28;01mwith\u001b[39;00m \u001b[43mimopen\u001b[49m\u001b[43m(\u001b[49m\u001b[43muri\u001b[49m\u001b[43m,\u001b[49m\u001b[43m \u001b[49m\u001b[38;5;124;43m\"\u001b[39;49m\u001b[38;5;124;43mri\u001b[39;49m\u001b[38;5;124;43m\"\u001b[39;49m\u001b[43m,\u001b[49m\u001b[43m \u001b[49m\u001b[38;5;241;43m*\u001b[39;49m\u001b[38;5;241;43m*\u001b[39;49m\u001b[43mimopen_args\u001b[49m\u001b[43m)\u001b[49m \u001b[38;5;28;01mas\u001b[39;00m file:\n\u001b[0;32m    360\u001b[0m     result \u001b[38;5;241m=\u001b[39m file\u001b[38;5;241m.\u001b[39mread(index\u001b[38;5;241m=\u001b[39m\u001b[38;5;241m0\u001b[39m, \u001b[38;5;241m*\u001b[39m\u001b[38;5;241m*\u001b[39mkwargs)\n\u001b[0;32m    362\u001b[0m \u001b[38;5;28;01mreturn\u001b[39;00m result\n",
      "File \u001b[1;32m~\\AppData\\Local\\Packages\\PythonSoftwareFoundation.Python.3.11_qbz5n2kfra8p0\\LocalCache\\local-packages\\Python311\\site-packages\\imageio\\core\\imopen.py:113\u001b[0m, in \u001b[0;36mimopen\u001b[1;34m(uri, io_mode, plugin, extension, format_hint, legacy_mode, **kwargs)\u001b[0m\n\u001b[0;32m    111\u001b[0m     request\u001b[38;5;241m.\u001b[39mformat_hint \u001b[38;5;241m=\u001b[39m format_hint\n\u001b[0;32m    112\u001b[0m \u001b[38;5;28;01melse\u001b[39;00m:\n\u001b[1;32m--> 113\u001b[0m     request \u001b[38;5;241m=\u001b[39m \u001b[43mRequest\u001b[49m\u001b[43m(\u001b[49m\u001b[43muri\u001b[49m\u001b[43m,\u001b[49m\u001b[43m \u001b[49m\u001b[43mio_mode\u001b[49m\u001b[43m,\u001b[49m\u001b[43m \u001b[49m\u001b[43mformat_hint\u001b[49m\u001b[38;5;241;43m=\u001b[39;49m\u001b[43mformat_hint\u001b[49m\u001b[43m,\u001b[49m\u001b[43m \u001b[49m\u001b[43mextension\u001b[49m\u001b[38;5;241;43m=\u001b[39;49m\u001b[43mextension\u001b[49m\u001b[43m)\u001b[49m\n\u001b[0;32m    115\u001b[0m source \u001b[38;5;241m=\u001b[39m \u001b[38;5;124m\"\u001b[39m\u001b[38;5;124m<bytes>\u001b[39m\u001b[38;5;124m\"\u001b[39m \u001b[38;5;28;01mif\u001b[39;00m \u001b[38;5;28misinstance\u001b[39m(uri, \u001b[38;5;28mbytes\u001b[39m) \u001b[38;5;28;01melse\u001b[39;00m uri\n\u001b[0;32m    117\u001b[0m \u001b[38;5;66;03m# fast-path based on plugin\u001b[39;00m\n\u001b[0;32m    118\u001b[0m \u001b[38;5;66;03m# (except in legacy mode)\u001b[39;00m\n",
      "File \u001b[1;32m~\\AppData\\Local\\Packages\\PythonSoftwareFoundation.Python.3.11_qbz5n2kfra8p0\\LocalCache\\local-packages\\Python311\\site-packages\\imageio\\core\\request.py:247\u001b[0m, in \u001b[0;36mRequest.__init__\u001b[1;34m(self, uri, mode, extension, format_hint, **kwargs)\u001b[0m\n\u001b[0;32m    244\u001b[0m     \u001b[38;5;28;01mraise\u001b[39;00m \u001b[38;5;167;01mValueError\u001b[39;00m(\u001b[38;5;124mf\u001b[39m\u001b[38;5;124m\"\u001b[39m\u001b[38;5;124mInvalid Request.Mode: \u001b[39m\u001b[38;5;132;01m{\u001b[39;00mmode\u001b[38;5;132;01m}\u001b[39;00m\u001b[38;5;124m\"\u001b[39m)\n\u001b[0;32m    246\u001b[0m \u001b[38;5;66;03m# Parse what was given\u001b[39;00m\n\u001b[1;32m--> 247\u001b[0m \u001b[38;5;28;43mself\u001b[39;49m\u001b[38;5;241;43m.\u001b[39;49m\u001b[43m_parse_uri\u001b[49m\u001b[43m(\u001b[49m\u001b[43muri\u001b[49m\u001b[43m)\u001b[49m\n\u001b[0;32m    249\u001b[0m \u001b[38;5;66;03m# Set extension\u001b[39;00m\n\u001b[0;32m    250\u001b[0m \u001b[38;5;28;01mif\u001b[39;00m extension \u001b[38;5;129;01mis\u001b[39;00m \u001b[38;5;129;01mnot\u001b[39;00m \u001b[38;5;28;01mNone\u001b[39;00m:\n",
      "File \u001b[1;32m~\\AppData\\Local\\Packages\\PythonSoftwareFoundation.Python.3.11_qbz5n2kfra8p0\\LocalCache\\local-packages\\Python311\\site-packages\\imageio\\core\\request.py:407\u001b[0m, in \u001b[0;36mRequest._parse_uri\u001b[1;34m(self, uri)\u001b[0m\n\u001b[0;32m    404\u001b[0m \u001b[38;5;28;01mif\u001b[39;00m is_read_request:\n\u001b[0;32m    405\u001b[0m     \u001b[38;5;66;03m# Reading: check that the file exists (but is allowed a dir)\u001b[39;00m\n\u001b[0;32m    406\u001b[0m     \u001b[38;5;28;01mif\u001b[39;00m \u001b[38;5;129;01mnot\u001b[39;00m os\u001b[38;5;241m.\u001b[39mpath\u001b[38;5;241m.\u001b[39mexists(fn):\n\u001b[1;32m--> 407\u001b[0m         \u001b[38;5;28;01mraise\u001b[39;00m \u001b[38;5;167;01mFileNotFoundError\u001b[39;00m(\u001b[38;5;124m\"\u001b[39m\u001b[38;5;124mNo such file: \u001b[39m\u001b[38;5;124m'\u001b[39m\u001b[38;5;132;01m%s\u001b[39;00m\u001b[38;5;124m'\u001b[39m\u001b[38;5;124m\"\u001b[39m \u001b[38;5;241m%\u001b[39m fn)\n\u001b[0;32m    408\u001b[0m \u001b[38;5;28;01melse\u001b[39;00m:\n\u001b[0;32m    409\u001b[0m     \u001b[38;5;66;03m# Writing: check that the directory to write to does exist\u001b[39;00m\n\u001b[0;32m    410\u001b[0m     dn \u001b[38;5;241m=\u001b[39m os\u001b[38;5;241m.\u001b[39mpath\u001b[38;5;241m.\u001b[39mdirname(fn)\n",
      "\u001b[1;31mFileNotFoundError\u001b[0m: No such file: 'c:\\Users\\Dupuju\\Downloads\\steganalysis\\dataset1\\boss_256_0.4_train\\dataset1\\boss_256_0.4_train\\cover\\1.png'"
     ]
    }
   ],
   "source": [
    "from imageio.v2 import imread\n",
    "import numpy as np\n",
    "import os\n",
    "\n",
    "def load_image(image_path):\n",
    "    return imread(image_path, mode='L').astype(int)\n",
    "\n",
    "def compute_pdh(image):\n",
    "    diffs = []\n",
    "    for i in range(image.shape[0]):\n",
    "        for j in range(image.shape[1] - 1):\n",
    "            diff = image[i, j] - image[i, j+1]\n",
    "            diffs.extend([diff, -diff])\n",
    "\n",
    "    for i in range(image.shape[0] - 1):\n",
    "        for j in range(image.shape[1]):\n",
    "            diff = image[i, j] - image[i + 1, j]\n",
    "            diffs.extend([diff, -diff])\n",
    "\n",
    "    return np.array(diffs)\n",
    "\n",
    "def calculate_f_statistic(diffs):\n",
    "    if diffs.size == 0:\n",
    "        return None\n",
    "\n",
    "    hist_range = (np.min(diffs), np.max(diffs) + 1)\n",
    "    hist, bin_edges = np.histogram(diffs, bins=50, range=hist_range)\n",
    "\n",
    "    obs_freq = hist\n",
    "    exp_freq = (hist + hist[::-1]) / 2\n",
    "\n",
    "    epsilon = 1e-10\n",
    "    f_value = np.sum((obs_freq - exp_freq) ** 2 / (exp_freq + epsilon))\n",
    "    return f_value\n",
    "\n",
    "def analyze_images(base_path, cover_dir, stego_dir, num_images):\n",
    "    results = {'TP': 0, 'TN': 0, 'FP': 0, 'FN': 0}\n",
    "    errors = {'FP': [], 'FN': []}\n",
    "\n",
    "    for i in tqdm(range(1, num_images + 1)):\n",
    "        cover_path = os.path.join(base_path, cover_dir, f\"{i}.png\")\n",
    "        stego_path = os.path.join(base_path, stego_dir, f\"{i}.png\")\n",
    "\n",
    "        cover_image = load_image(cover_path)\n",
    "        stego_image = load_image(stego_path)\n",
    "\n",
    "        cover_diffs = compute_pdh(cover_image)\n",
    "        stego_diffs = compute_pdh(stego_image)\n",
    "\n",
    "        cover_f_value = calculate_f_statistic(cover_diffs)\n",
    "        stego_f_value = calculate_f_statistic(stego_diffs)\n",
    "\n",
    "        if cover_f_value > stego_f_value:\n",
    "            results['TN'] += 1\n",
    "            results['TP'] += 1\n",
    "        else:\n",
    "            results['FN'] += 1\n",
    "            results['FP'] += 1\n",
    "            errors['FP'].append(stego_path)\n",
    "            errors['FN'].append(cover_path)\n",
    "\n",
    "    return results, errors\n",
    "\n",
    "def compute_metrics(results):\n",
    "    TP, TN, FP, FN = results['TP'], results['TN'], results['FP'], results['FN']\n",
    "    FPR = FP / (FP + TN) if (FP + TN) > 0 else 0\n",
    "    TPR = TP / (TP + FN) if (TP + FN) > 0 else 0\n",
    "    Precision = TP / (TP + FP) if (TP + FP) > 0 else 0\n",
    "    Recall = TP / (TP + FN) if (TP + FN) > 0 else 0\n",
    "    Accuracy = (TP + TN) / (TP + TN + FP + FN) if (TP + TN + FP + FN) > 0 else 0\n",
    "    \n",
    "    return {\n",
    "        'FPR': FPR,\n",
    "        'TPR': TPR,\n",
    "        'Precision': Precision,\n",
    "        'Recall': Recall,\n",
    "        'Accuracy': Accuracy\n",
    "    }\n",
    "\n",
    "# Example usage\n",
    "base_path = 'dataset1\\\\boss_256_0.4_train'\n",
    "cover_dir = 'dataset1\\\\boss_256_0.4_train\\\\cover'\n",
    "stego_dir = 'dataset1\\\\boss_256_0.4_train\\\\stego'\n",
    "num_images = 100\n",
    "\n",
    "results, errors = analyze_images(base_path, cover_dir, stego_dir, num_images)\n",
    "metrics = compute_metrics(results)\n",
    "print(\"Metrics:\", metrics)\n",
    "print(\"False Positives:\", errors['FP'])\n",
    "print(\"False Negatives:\", errors['FN'])\n"
   ]
  },
  {
   "cell_type": "code",
   "execution_count": null,
   "metadata": {},
   "outputs": [],
   "source": []
  },
  {
   "cell_type": "code",
   "execution_count": null,
   "metadata": {},
   "outputs": [],
   "source": []
  },
  {
   "cell_type": "code",
   "execution_count": null,
   "metadata": {},
   "outputs": [],
   "source": []
  },
  {
   "cell_type": "code",
   "execution_count": 17,
   "metadata": {},
   "outputs": [
    {
     "name": "stderr",
     "output_type": "stream",
     "text": [
      "100%|██████████| 1000/1000 [03:10<00:00,  5.26it/s]"
     ]
    },
    {
     "name": "stdout",
     "output_type": "stream",
     "text": [
      "Metrics: {'FPR': 0.272, 'TPR': 0.728, 'Precision': 0.728, 'Recall': 0.728, 'Accuracy': 0.728}\n",
      "Missing Files: []\n"
     ]
    },
    {
     "name": "stderr",
     "output_type": "stream",
     "text": [
      "\n"
     ]
    }
   ],
   "source": [
    "from imageio.v2 import imread\n",
    "import numpy as np\n",
    "import os\n",
    "\n",
    "def load_image(image_path):\n",
    "    try:\n",
    "        return imread(image_path, mode='L').astype(int)\n",
    "    except FileNotFoundError:\n",
    "        print(f\"File not found: {image_path}\")\n",
    "        return None\n",
    "\n",
    "def compute_pdh(image):\n",
    "    diffs = []\n",
    "    if image is not None:\n",
    "        for i in range(image.shape[0]):\n",
    "            for j in range(image.shape[1] - 1):\n",
    "                diff = image[i, j] - image[i, j+1]\n",
    "                diffs.extend([diff, -diff])\n",
    "\n",
    "        for i in range(image.shape[0] - 1):\n",
    "            for j in range(image.shape[1]):\n",
    "                diff = image[i, j] - image[i + 1, j]\n",
    "                diffs.extend([diff, -diff])\n",
    "\n",
    "    return np.array(diffs)\n",
    "\n",
    "def calculate_f_statistic(diffs):\n",
    "    if diffs.size == 0:\n",
    "        return None\n",
    "\n",
    "    hist_range = (np.min(diffs), np.max(diffs) + 1)\n",
    "    hist, bin_edges = np.histogram(diffs, bins=50, range=hist_range)\n",
    "\n",
    "    obs_freq = hist\n",
    "    exp_freq = (hist + hist[::-1]) / 2\n",
    "\n",
    "    epsilon = 1e-10\n",
    "    f_value = np.sum((obs_freq - exp_freq) ** 2 / (exp_freq + epsilon))\n",
    "    return f_value\n",
    "\n",
    "def analyze_images(base_path, cover_dir, stego_dir, num_images):\n",
    "    results = {'TP': 0, 'TN': 0, 'FP': 0, 'FN': 0}\n",
    "    errors = {'FP': [], 'FN': [], 'Missing Files': []}\n",
    "\n",
    "    for i in tqdm(range(1, num_images + 1)):\n",
    "        cover_path = os.path.join(base_path, cover_dir, f\"{i}.pgm\")\n",
    "        stego_path = os.path.join(base_path, stego_dir, f\"{i}.pgm\")\n",
    "\n",
    "        cover_image = load_image(cover_path)\n",
    "        stego_image = load_image(stego_path)\n",
    "\n",
    "        if cover_image is None or stego_image is None:\n",
    "            errors['Missing Files'].extend([cover_path, stego_path])\n",
    "            continue  # Skip this pair if either image is missing\n",
    "\n",
    "        cover_diffs = compute_pdh(cover_image)\n",
    "        stego_diffs = compute_pdh(stego_image)\n",
    "\n",
    "        cover_f_value = calculate_f_statistic(cover_diffs)\n",
    "        stego_f_value = calculate_f_statistic(stego_diffs)\n",
    "\n",
    "        if cover_f_value > stego_f_value:\n",
    "            results['TN'] += 1\n",
    "            results['TP'] += 1\n",
    "        else:\n",
    "            results['FN'] += 1\n",
    "            results['FP'] += 1\n",
    "            errors['FP'].append(stego_path)\n",
    "            errors['FN'].append(cover_path)\n",
    "\n",
    "    return results, errors\n",
    "\n",
    "def compute_metrics(results):\n",
    "    TP, TN, FP, FN = results['TP'], results['TN'], results['FP'], results['FN']\n",
    "    FPR = FP / (FP + TN) if (FP + TN) > 0 else 0\n",
    "    TPR = TP / (TP + FN) if (TP + FN) > 0 else 0\n",
    "    Precision = TP / (TP + FP) if (TP + FP) > 0 else 0\n",
    "    Recall = TP / (TP + FN) if (TP + FN) > 0 else 0\n",
    "    Accuracy = (TP + TN) / (TP + TN + FP + FN) if (TP + TN + FP + FN) > 0 else 0\n",
    "    \n",
    "    return {\n",
    "        'FPR': FPR,\n",
    "        'TPR': TPR,\n",
    "        'Precision': Precision,\n",
    "        'Recall': Recall,\n",
    "        'Accuracy': Accuracy\n",
    "    }\n",
    "\n",
    "\n",
    "base_path = 'dataset_directory/GBRASNET/BOSSbase-1.01'\n",
    "cover_dir = 'cover'\n",
    "stego_dir = 'stego/HILL/0.2bpp/stego'\n",
    "num_images = 1000\n",
    "\n",
    "results, errors = analyze_images(base_path, cover_dir, stego_dir, num_images)\n",
    "metrics = compute_metrics(results)\n",
    "print(\"Metrics:\", metrics)\n",
    "print(\"Missing Files:\", errors['Missing Files'])\n"
   ]
  },
  {
   "cell_type": "code",
   "execution_count": null,
   "metadata": {},
   "outputs": [],
   "source": []
  },
  {
   "cell_type": "code",
   "execution_count": null,
   "metadata": {},
   "outputs": [],
   "source": [
    "import requests\n",
    "import time\n",
    "\n",
    "def upload_and_check_image(api_key, file_path):\n",
    "    url = \"https://www.virustotal.com/api/v3/files\"\n",
    "    \n",
    "    with open(file_path, 'rb') as file:\n",
    "        files = {'file': (file_path, file)}\n",
    "        headers = {'x-apikey': api_key}\n",
    "        response = requests.post(url, headers=headers, files=files)\n",
    "        response_data = response.json()\n",
    "        \n",
    "        if response.status_code == 200:\n",
    "            analysis_id = response_data['data']['id']\n",
    "            print(\"File uploaded successfully. Analysis ID:\", analysis_id)\n",
    "            \n",
    "            analysis_url = f\"https://www.virustotal.com/api/v3/analyses/{analysis_id}\"\n",
    "            max_retries = 10  \n",
    "            \n",
    "            for _ in range(max_retries):\n",
    "                result_response = requests.get(analysis_url, headers=headers)\n",
    "                result_data = result_response.json()\n",
    "                \n",
    "                if 'data' in result_data and 'attributes' in result_data['data']:\n",
    "                    status = result_data['data']['attributes']['status']\n",
    "                    print(\"Current analysis status:\", status)\n",
    "                    \n",
    "                    if status == 'completed':\n",
    "                        malicious = result_data['data']['attributes']['stats']['malicious']\n",
    "                        if malicious > 0:\n",
    "                            print(\"WARNING: The file is infected.\")\n",
    "                        else:\n",
    "                            print(\"The file is clean.\")\n",
    "                        break\n",
    "                else:\n",
    "                    if 'error' in result_data:\n",
    "                        print(\"Error during analysis:\", result_data['error'])\n",
    "                        break\n",
    "                    print(\"Waiting for analysis result...\")\n",
    "                    time.sleep(15)  \n",
    "            else:\n",
    "                print(\"Analysis did not complete in the expected time.\")\n",
    "        else:\n",
    "            print(\"Failed to upload file:\", response_data.get('error', {}).get('message', 'No error message available'))\n",
    "\n",
    "api_key = '32c3a455a1c5e094feab9f030c5a2d9a774121b12e0dab289bbb1ee2c885cbbb'\n",
    "file_path = 'dataset_directory/GBRASNET/BOSSbase-1.01/stego/HILL/0.2bpp/stego/1.pgm'\n",
    "upload_and_check_image(api_key, file_path)\n"
   ]
  },
  {
   "cell_type": "code",
   "execution_count": 8,
   "metadata": {
    "metadata": {}
   },
   "outputs": [
    {
     "name": "stderr",
     "output_type": "stream",
     "text": [
      "C:\\Users\\Dupuju\\AppData\\Local\\Temp\\ipykernel_53084\\1011335695.py:8: RuntimeWarning: divide by zero encountered in divide\n",
      "  chi_squared = np.sum((hist1 - hist2)**2 / hist2 + epsilon)\n",
      "C:\\Users\\Dupuju\\AppData\\Local\\Temp\\ipykernel_53084\\1011335695.py:8: RuntimeWarning: invalid value encountered in divide\n",
      "  chi_squared = np.sum((hist1 - hist2)**2 / hist2 + epsilon)\n"
     ]
    },
    {
     "data": {
      "image/png": "[encoded data removed]",
      "text/plain": [
       "<Figure size 1200x600 with 2 Axes>"
      ]
     },
     "metadata": {},
     "output_type": "display_data"
    },
    {
     "name": "stdout",
     "output_type": "stream",
     "text": [
      "HIST1 [69857     0     0     0     0     0     0     0     0     0     0     0\n",
      "    49   295   968   187   368   298  2007   169   528   342  1732   501\n",
      "   174     0  1082     0   245     9     0     0   221     0     0    11\n",
      "  1166     0     0     0     0    11     0   250     0     1     0     2\n",
      "     8     0     0     0     3     0     4     0     3     4     0     0\n",
      "     0     0     2 59783    31    97    30    13    49    15    21    20\n",
      "    10    20    13    38    11    11    13    28    81    11     0    15\n",
      "     8    17     7    33    22    17    15     4   163     5     9    18\n",
      "     5    72   135     9    17     3     3    23     2     4     7     2\n",
      "    11   142     4     7    13    14     9     2     5     4     7    43\n",
      "     6    14    26    15     6     1    39     8    21   100     8    10\n",
      "     2    12    10     6     3    20     1     5    14     6   215     2\n",
      "     7   135     8    10    10     2    19     5     4    22     5    14\n",
      "    53     7     7    91     4    15    20     8    10     5    11    13\n",
      "    91     7     9    13    16     9    15   207     7    14     5     4\n",
      "    40    11    22     4     3     9     7    18     8     8    21    13\n",
      "    30    45    11    14    10    15    17    13     6    16    12    38\n",
      "     8    15    25    23     6    12    20    15    27    13    86    59\n",
      "    67    70    67    37   173    76    77   212   107  4248  7328  6587\n",
      "  4399  5389  6011  5956  2922  2351  6332  7558  7726  7866 30943  7278\n",
      "  4452   112     0     0     0     0     0     0     0     0     0     0\n",
      "     0     0     0     0]\n",
      "HIST2 [69885  6467  3173   820    42    63    23    12     7     4     3     1\n",
      "     2     9    13     9    18    15     9     5     5     4     1     3\n",
      "     1     6     5     5     8     3     2     3     1     0     0     0\n",
      "     1     1     1     1     1     2     1     3     2     3     1     2\n",
      "     2     3     2     1     2     4     5     7     3     1     3     4\n",
      "     3     3     3 59785    32   109    32    16    58    18    28    19\n",
      "    13    22    15    33    12    13    14    22    82     8     7    19\n",
      "    11    20    10    25    20    19     6     7   163     6     5    19\n",
      "     6    71   134    12    18     4     4    21     3     5     9     5\n",
      "    13   145     6     6    14    23     8     4     6     5    11    45\n",
      "    12    11    27     9    11     2    42     9    19   103     4    12\n",
      "     6    17    14     9     7    21     2     6    19     8   214     4\n",
      "     9   135     8    11     9     2    19     7     4    24     2    16\n",
      "    54     7    10    92    10    20    19     6    10     6    18    10\n",
      "    92     8    11     8    18     5     8   200     7    13     8     1\n",
      "    34     9    15     4     2     4     5    18     7     6    23     7\n",
      "    29    39    10    20     7    11    17    15     7    21    10    31\n",
      "     7    11    30    18     7     9    18    14    22    11    78    57\n",
      "    67    76    63    18   214    70    68   199    91  4188  7317  6584\n",
      "  4384  5370  6002  6007  5448  6466  7228  7387  7770  7747 30135  4226\n",
      "   569   284   118     2     0     0     0     0     0     0     0     0\n",
      "     0     0     0     0]\n",
      "CHI_SQUARED nan\n"
     ]
    }
   ],
   "source": [
    "import cv2\n",
    "import numpy as np\n",
    "import matplotlib.pyplot as plt\n",
    "epsilon = 1e-10\n",
    "\n",
    "def chi_squared_distance(hist1, hist2):\n",
    "    # Compute the Chi-Squared distance\n",
    "    chi_squared = np.sum((hist1 - hist2)**2 / hist2 + epsilon)\n",
    "    return chi_squared\n",
    "\n",
    "# Load and preprocess two different images\n",
    "image1 = cv2.imread('Stego-pvd-dataset\\\\train\\\\cleanTrain\\\\00001.png', cv2.IMREAD_GRAYSCALE)\n",
    "image2 = cv2.imread('Stego-pvd-dataset\\\\train\\\\stegoTrain\\\\00001x.png', cv2.IMREAD_GRAYSCALE)\n",
    "\n",
    "# Calculate histograms of pixel intensities for both images\n",
    "hist1, _ = np.histogram(image1.ravel(), bins=256, range=(0, 255))\n",
    "hist2, _ = np.histogram(image2.ravel(), bins=256, range=(0, 255))\n",
    "\n",
    "# Normalize histograms to have the same sum (optional but recommended)\n",
    "#hist1 = hist1 / np.sum(hist1)\n",
    "#hist2 = hist2 / np.sum(hist2)\n",
    "\n",
    "# Compute the Chi-Squared distance between the histograms\n",
    "chi_squared = chi_squared_distance(hist1, hist2)\n",
    "\n",
    "# Plot the histograms and Chi-Squared distance\n",
    "plt.figure(figsize=(12, 6))\n",
    "\n",
    "# Plot histogram of image 1\n",
    "plt.subplot(1, 3, 1)\n",
    "plt.title('Histogram of Image 1')\n",
    "plt.plot(hist1)\n",
    "\n",
    "# Plot histogram of image 2\n",
    "plt.subplot(1, 3, 2)\n",
    "plt.title('Histogram of Image 2')\n",
    "plt.plot(hist2)\n",
    "\n",
    "# Plot Chi-Squared distance\n",
    "#plt.subplot(1, 3, 3)\n",
    "#plt.title('Chi-Squared Distance: {:.2f}'.format(chi_squared))\n",
    "#plt.bar([0, 1], [chi_squared, 0], tick_label=['Distance', ''])\n",
    "\n",
    "plt.tight_layout()\n",
    "plt.show()\n",
    "\n",
    "print(\"HIST1\",hist1)\n",
    "print(\"HIST2\",hist2)\n",
    "print(\"CHI_SQUARED\",chi_squared)\n"
   ]
  },
  {
   "cell_type": "code",
   "execution_count": 2,
   "metadata": {
    "metadata": {}
   },
   "outputs": [
    {
     "name": "stdout",
     "output_type": "stream",
     "text": [
      "Note: you may need to restart the kernel to use updated packages.\n"
     ]
    },
    {
     "name": "stderr",
     "output_type": "stream",
     "text": [
      "ERROR: Could not find a version that satisfies the requirement cv2 (from versions: none)\n",
      "ERROR: No matching distribution found for cv2\n"
     ]
    }
   ],
   "source": [
    "pip install cv2"
   ]
  },
  {
   "cell_type": "code",
   "execution_count": 3,
   "metadata": {
    "metadata": {}
   },
   "outputs": [
    {
     "name": "stdout",
     "output_type": "stream",
     "text": [
      "Collecting opencv-python\n",
      "  Downloading opencv_python-4.9.0.80-cp37-abi3-win_amd64.whl.metadata (20 kB)\n",
      "Requirement already satisfied: numpy>=1.21.2 in c:\\users\\dupuju\\appdata\\local\\packages\\pythonsoftwarefoundation.python.3.11_qbz5n2kfra8p0\\localcache\\local-packages\\python311\\site-packages (from opencv-python) (1.26.4)\n",
      "Downloading opencv_python-4.9.0.80-cp37-abi3-win_amd64.whl (38.6 MB)\n",
      "   ---------------------------------------- 0.0/38.6 MB ? eta -:--:--\n",
      "   ---------------------------------------- 0.0/38.6 MB ? eta -:--:--\n",
      "   ---------------------------------------- 0.0/38.6 MB 660.6 kB/s eta 0:00:59\n",
      "    --------------------------------------- 0.5/38.6 MB 5.4 MB/s eta 0:00:07\n",
      "   - -------------------------------------- 1.4/38.6 MB 10.9 MB/s eta 0:00:04\n",
      "   --- ------------------------------------ 3.5/38.6 MB 18.8 MB/s eta 0:00:02\n",
      "   ------ --------------------------------- 5.9/38.6 MB 25.1 MB/s eta 0:00:02\n",
      "   -------- ------------------------------- 8.3/38.6 MB 31.1 MB/s eta 0:00:01\n",
      "   ----------- ---------------------------- 11.1/38.6 MB 46.7 MB/s eta 0:00:01\n",
      "   ------------ --------------------------- 12.5/38.6 MB 46.7 MB/s eta 0:00:01\n",
      "   --------------- ------------------------ 15.0/38.6 MB 54.7 MB/s eta 0:00:01\n",
      "   ------------------ --------------------- 17.7/38.6 MB 54.7 MB/s eta 0:00:01\n",
      "   -------------------- ------------------- 20.2/38.6 MB 50.1 MB/s eta 0:00:01\n",
      "   ----------------------- ---------------- 22.7/38.6 MB 54.7 MB/s eta 0:00:01\n",
      "   -------------------------- ------------- 25.3/38.6 MB 54.7 MB/s eta 0:00:01\n",
      "   ---------------------------- ----------- 27.6/38.6 MB 50.4 MB/s eta 0:00:01\n",
      "   ------------------------------ --------- 29.6/38.6 MB 50.4 MB/s eta 0:00:01\n",
      "   --------------------------------- ------ 32.2/38.6 MB 54.7 MB/s eta 0:00:01\n",
      "   ----------------------------------- ---- 34.7/38.6 MB 50.4 MB/s eta 0:00:01\n",
      "   -------------------------------------- - 37.3/38.6 MB 54.4 MB/s eta 0:00:01\n",
      "   ---------------------------------------  38.6/38.6 MB 50.4 MB/s eta 0:00:01\n",
      "   ---------------------------------------  38.6/38.6 MB 50.4 MB/s eta 0:00:01\n",
      "   ---------------------------------------- 38.6/38.6 MB 34.4 MB/s eta 0:00:00\n",
      "Installing collected packages: opencv-python\n",
      "Successfully installed opencv-python-4.9.0.80\n",
      "Note: you may need to restart the kernel to use updated packages.\n"
     ]
    }
   ],
   "source": [
    "pip install opencv-python"
   ]
  },
  {
   "cell_type": "code",
   "execution_count": 9,
   "metadata": {
    "metadata": {}
   },
   "outputs": [
    {
     "name": "stdout",
     "output_type": "stream",
     "text": [
      "Collecting opencv-contrib-pythonNote: you may need to restart the kernel to use updated packages.\n"
     ]
    },
    {
     "name": "stderr",
     "output_type": "stream",
     "text": [
      "ERROR: Could not install packages due to an OSError: [WinError 5] Access is denied: 'C:\\\\Users\\\\Dupuju\\\\AppData\\\\Local\\\\Packages\\\\PythonSoftwareFoundation.Python.3.11_qbz5n2kfra8p0\\\\LocalCache\\\\local-packages\\\\Python311\\\\site-packages\\\\cv2\\\\cv2.pyd'\n",
      "Check the permissions.\n",
      "\n"
     ]
    },
    {
     "name": "stdout",
     "output_type": "stream",
     "text": [
      "\n",
      "  Downloading opencv_contrib_python-4.9.0.80-cp37-abi3-win_amd64.whl.metadata (20 kB)\n",
      "Requirement already satisfied: numpy>=1.21.2 in c:\\users\\dupuju\\appdata\\local\\packages\\pythonsoftwarefoundation.python.3.11_qbz5n2kfra8p0\\localcache\\local-packages\\python311\\site-packages (from opencv-contrib-python) (1.26.4)\n",
      "Downloading opencv_contrib_python-4.9.0.80-cp37-abi3-win_amd64.whl (45.3 MB)\n",
      "   ---------------------------------------- 0.0/45.3 MB ? eta -:--:--\n",
      "   ---------------------------------------- 0.0/45.3 MB ? eta -:--:--\n",
      "   ---------------------------------------- 0.0/45.3 MB 667.8 kB/s eta 0:01:08\n",
      "   ---------------------------------------- 0.4/45.3 MB 4.5 MB/s eta 0:00:10\n",
      "    --------------------------------------- 1.1/45.3 MB 7.6 MB/s eta 0:00:06\n",
      "   - -------------------------------------- 1.7/45.3 MB 9.2 MB/s eta 0:00:05\n",
      "   -- ------------------------------------- 2.6/45.3 MB 10.9 MB/s eta 0:00:04\n",
      "   --- ------------------------------------ 3.7/45.3 MB 12.6 MB/s eta 0:00:04\n",
      "   ---- ----------------------------------- 4.8/45.3 MB 14.1 MB/s eta 0:00:03\n",
      "   ----- ---------------------------------- 6.1/45.3 MB 16.2 MB/s eta 0:00:03\n",
      "   ------ --------------------------------- 7.3/45.3 MB 16.8 MB/s eta 0:00:03\n",
      "   -------- ------------------------------- 9.3/45.3 MB 19.2 MB/s eta 0:00:02\n",
      "   --------- ------------------------------ 11.1/45.3 MB 26.2 MB/s eta 0:00:02\n",
      "   ----------- ---------------------------- 13.4/45.3 MB 32.7 MB/s eta 0:00:01\n",
      "   ------------- -------------------------- 15.4/45.3 MB 36.3 MB/s eta 0:00:01\n",
      "   --------------- ------------------------ 17.7/45.3 MB 40.9 MB/s eta 0:00:01\n",
      "   ---------------- ----------------------- 19.1/45.3 MB 43.5 MB/s eta 0:00:01\n",
      "   ---------------- ----------------------- 19.1/45.3 MB 36.3 MB/s eta 0:00:01\n",
      "   ------------------- -------------------- 21.6/45.3 MB 38.5 MB/s eta 0:00:01\n",
      "   --------------------- ------------------ 24.3/45.3 MB 38.5 MB/s eta 0:00:01\n",
      "   ----------------------- ---------------- 26.9/45.3 MB 40.9 MB/s eta 0:00:01\n",
      "   ------------------------- -------------- 29.3/45.3 MB 40.9 MB/s eta 0:00:01\n",
      "   ---------------------------- ----------- 31.8/45.3 MB 50.4 MB/s eta 0:00:01\n",
      "   ----------------------------- ---------- 33.8/45.3 MB 46.7 MB/s eta 0:00:01\n",
      "   -------------------------------- ------- 36.4/45.3 MB 50.4 MB/s eta 0:00:01\n",
      "   ---------------------------------- ----- 39.2/45.3 MB 46.9 MB/s eta 0:00:01\n",
      "   ------------------------------------- -- 41.9/45.3 MB 54.4 MB/s eta 0:00:01\n",
      "   ---------------------------------------  44.5/45.3 MB 54.7 MB/s eta 0:00:01\n",
      "   ---------------------------------------  45.3/45.3 MB 59.5 MB/s eta 0:00:01\n",
      "   ---------------------------------------  45.3/45.3 MB 59.5 MB/s eta 0:00:01\n",
      "   ---------------------------------------- 45.3/45.3 MB 34.4 MB/s eta 0:00:00\n",
      "Installing collected packages: opencv-contrib-python\n"
     ]
    }
   ],
   "source": [
    "pip install opencv-contrib-python\n"
   ]
  }
 ],
 "metadata": {
  "kernelspec": {
   "display_name": "Python 3",
   "language": "python",
   "name": "python3"
  },
  "language_info": {
   "codemirror_mode": {
    "name": "ipython",
    "version": 3
   },
   "file_extension": ".py",
   "mimetype": "text/x-python",
   "name": "python",
   "nbconvert_exporter": "python",
   "pygments_lexer": "ipython3",
   "version": "3.11.9"
  }
 },
 "nbformat": 4,
 "nbformat_minor": 2
}
